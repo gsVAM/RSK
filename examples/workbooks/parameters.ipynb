{
 "cells": [
  {
   "cell_type": "markdown",
   "metadata": {},
   "source": [
    "# RSK Parameters"
   ]
  },
  {
   "cell_type": "markdown",
   "metadata": {},
   "source": [
    "This workbook explores how the magnitudes of the different parameters affect the estimated means.  We observe that when the `alpha` process can be estimated with high confidence (i.e. `Q` is small) then RSK substantially outperforms the naive mean, even when `sigma` is huge. Essentially small `Q` dampens out the noise and so that the true `alpha` process dominates the estimation."
   ]
  },
  {
   "cell_type": "code",
   "execution_count": 71,
   "metadata": {
    "collapsed": false
   },
   "outputs": [
    {
     "name": "stdout",
     "output_type": "stream",
     "text": [
      "mu\t\trsk_smooth\trsk\t\tnaive\n",
      "1.00000000\t1.00981479\t1.00985503\t-266.76760527\n",
      "1.01000000\t1.01989322\t1.02004261\t109.55586757\n",
      "1.02010000\t1.03004382\t1.03061807\t340.50671640\n",
      "1.03030100\t1.04020634\t1.04060471\t-228.02541965\n",
      "1.04060401\t1.05053262\t1.05067201\t-199.27471336\n",
      "1.05101005\t1.06101607\t1.06090846\t-134.55041069\n",
      "1.06152015\t1.07164056\t1.07145105\t-27.82914633\n",
      "1.07213535\t1.08237882\t1.08190748\t-97.60002055\n",
      "1.08285671\t1.09325043\t1.09280380\t27.40484954\n",
      "1.09368527\t1.10422330\t1.10422330\t151.72964472\n"
     ]
    }
   ],
   "source": [
    "import numpy as np\n",
    "import scipy as sp\n",
    "from rsk.rsk import RSK\n",
    "from rsk.panel import PanelSeries\n",
    "\n",
    "# parameters\n",
    "N,T = 30, 10  # sample size, periods\n",
    "a0 = 1        # initial alpha \n",
    "s = 1e3       # variance scale\n",
    "f = 1.01      # transition scale\n",
    "q = 1e-2      # alpha var scale\n",
    "\n",
    "####################################\n",
    "y = np.zeros((N, T))\n",
    "alpha, alpha_true  = np.zeros(T), np.zeros(T)\n",
    "alpha[0] = a0\n",
    "alpha_true[0]=a0\n",
    "\n",
    "sigma = s*sp.eye(1)\n",
    "Q = q*np.eye(1)\n",
    "F,Z = f*np.eye(1), np.eye(1)\n",
    "\n",
    "y[:,0] = alpha[0] + np.random.normal(0, sigma, size=(N,))\n",
    "for i in range(1,T):\n",
    "    alpha[i] = f*alpha[i-1] + np.random.normal(0, Q)\n",
    "    y[:,i] = alpha[i] + np.random.normal(0, sigma, size=(N,))\n",
    "    alpha_true[i] = F*alpha_true[i-1]\n",
    "\n",
    "# build panel series\n",
    "rows = []    \n",
    "for i,col in enumerate(y.transpose()):\n",
    "    for entry in col:\n",
    "        rows.append([i,\"A\",entry])\n",
    "ps = PanelSeries.from_list(rows)\n",
    "\n",
    "###########################################\n",
    "# compute means\n",
    "naive_means = y.mean(axis=0)\n",
    "\n",
    "a0 = a0*np.eye(1)\n",
    "rsk = RSK(F,Z)\n",
    "fitted_means_smooth = [x[0][0] for x in rsk.fit(ps, a0, Q, Q, smooth=True)]\n",
    "fitted_means = [x[0][0] for x in rsk.fit(ps, a0, Q, Q, smooth=False)]\n",
    "\n",
    "###########################################\n",
    "print(\"mu\\t\\trsk_smooth\\trsk\\t\\tnaive\")\n",
    "for a,w,x,y in zip(alpha_true, fitted_means_smooth, fitted_means, naive_means):\n",
    "    print(\"%.8f\\t%.8f\\t%.8f\\t%.8f\" % (a,w,x,y))"
   ]
  },
  {
   "cell_type": "code",
   "execution_count": null,
   "metadata": {
    "collapsed": true
   },
   "outputs": [],
   "source": []
  }
 ],
 "metadata": {
  "kernelspec": {
   "display_name": "Python 3",
   "language": "python",
   "name": "python3"
  },
  "language_info": {
   "codemirror_mode": {
    "name": "ipython",
    "version": 3
   },
   "file_extension": ".py",
   "mimetype": "text/x-python",
   "name": "python",
   "nbconvert_exporter": "python",
   "pygments_lexer": "ipython3",
   "version": "3.5.2"
  }
 },
 "nbformat": 4,
 "nbformat_minor": 0
}
